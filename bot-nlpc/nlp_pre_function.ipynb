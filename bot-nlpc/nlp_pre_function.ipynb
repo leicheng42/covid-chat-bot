{
 "cells": [
  {
   "cell_type": "code",
   "execution_count": 38,
   "metadata": {
    "collapsed": true
   },
   "outputs": [],
   "source": [
    "\"\"\"自然语言预处理功能函数\"\"\"\n",
    "from nltk.tokenize import sent_tokenize, word_tokenize\n",
    "from nltk import pos_tag\n",
    "from nltk.stem import WordNetLemmatizer\n",
    "from nltk.corpus import stopwords\n",
    "from nltk.corpus import state_union\n",
    "import re\n",
    "import string\n"
   ]
  },
  {
   "cell_type": "code",
   "execution_count": 39,
   "outputs": [
    {
     "name": "stdout",
     "output_type": "stream",
     "text": [
      " \t This &is [an] can't 23 example? {of} string. with.? punctuation!!!!\t \n"
     ]
    }
   ],
   "source": [
    "# 获取文本\n",
    "# text = state_union.raw(\"2006-GWBush.txt\")\n",
    "text = \" \\t This &is [an] can't 23 example? {of} string. with.? punctuation!!!!\\t \"\n",
    "\n",
    "\n",
    "print(text)"
   ],
   "metadata": {
    "collapsed": false,
    "pycharm": {
     "name": "#%%\n"
    }
   }
  },
  {
   "cell_type": "code",
   "execution_count": 40,
   "outputs": [
    {
     "name": "stdout",
     "output_type": "stream",
     "text": [
      " \t this &is [an] can't 23 example? {of} string. with.? punctuation!!!!\t \n"
     ]
    }
   ],
   "source": [
    "\"\"\"将文本中出现的字母转化为小写\"\"\"\n",
    "text = text.lower()\n",
    "\n",
    "print(text)"
   ],
   "metadata": {
    "collapsed": false,
    "pycharm": {
     "name": "#%%\n"
    }
   }
  },
  {
   "cell_type": "code",
   "execution_count": 41,
   "outputs": [
    {
     "name": "stdout",
     "output_type": "stream",
     "text": [
      " \t this &is [an] can't  example? {of} string. with.? punctuation!!!!\t \n"
     ]
    }
   ],
   "source": [
    "\"\"\"删除文本中出现的数字\"\"\"\n",
    "text = re.sub(r'\\d+', '', text)\n",
    "\n",
    "print(text)"
   ],
   "metadata": {
    "collapsed": false,
    "pycharm": {
     "name": "#%%\n"
    }
   }
  },
  {
   "cell_type": "code",
   "execution_count": 45,
   "outputs": [
    {
     "name": "stdout",
     "output_type": "stream",
     "text": [
      "this is an cant  example of string with punctuation\n"
     ]
    }
   ],
   "source": [
    "\"\"\"删除标点符号\"\"\"\n",
    "text = text.translate(str.maketrans('', '', string.punctuation))\n",
    "\n",
    "print(text)\n"
   ],
   "metadata": {
    "collapsed": false,
    "pycharm": {
     "name": "#%%\n"
    }
   }
  },
  {
   "cell_type": "code",
   "execution_count": null,
   "outputs": [],
   "source": [
    "\"\"\"删除文本中出现的空格\"\"\"\n",
    "text = text.strip()\n",
    "\n",
    "print(text)\n"
   ],
   "metadata": {
    "collapsed": false,
    "pycharm": {
     "name": "#%%\n"
    }
   }
  },
  {
   "cell_type": "code",
   "execution_count": 46,
   "outputs": [
    {
     "name": "stdout",
     "output_type": "stream",
     "text": [
      "['this', 'is', 'an', 'cant', 'example', 'of', 'string', 'with', 'punctuation']\n"
     ]
    }
   ],
   "source": [
    "\"\"\"单词符号化\"\"\"\n",
    "words = word_tokenize(text)\n",
    "\n",
    "print(words)\n"
   ],
   "metadata": {
    "collapsed": false,
    "pycharm": {
     "name": "#%%\n"
    }
   }
  },
  {
   "cell_type": "code",
   "execution_count": 47,
   "outputs": [
    {
     "name": "stdout",
     "output_type": "stream",
     "text": [
      "['cant', 'example', 'string', 'punctuation']\n"
     ]
    }
   ],
   "source": [
    "\"\"\"删除终止词\"\"\"\n",
    "stop_words = set(stopwords.words('english'))\n",
    "\n",
    "words = [i for i in words if not i in stop_words]\n",
    "\n",
    "print(words)\n"
   ],
   "metadata": {
    "collapsed": false,
    "pycharm": {
     "name": "#%%\n"
    }
   }
  },
  {
   "cell_type": "code",
   "execution_count": 48,
   "outputs": [
    {
     "name": "stdout",
     "output_type": "stream",
     "text": [
      "['cant', 'example', 'string', 'punctuation']\n"
     ]
    }
   ],
   "source": [
    "\"\"\"词形还原\"\"\"\n",
    "lemmatizer = WordNetLemmatizer()\n",
    "\n",
    "words = [lemmatizer.lemmatize(word) for word in words]\n",
    "\n",
    "print(words)\n"
   ],
   "metadata": {
    "collapsed": false,
    "pycharm": {
     "name": "#%%\n"
    }
   }
  },
  {
   "cell_type": "code",
   "execution_count": 49,
   "outputs": [
    {
     "name": "stdout",
     "output_type": "stream",
     "text": [
      "[('cant', 'JJ'), ('example', 'NN'), ('string', 'NN'), ('punctuation', 'NN')]\n"
     ]
    }
   ],
   "source": [
    "\"\"\"词性标注(POS)\"\"\"\n",
    "\n",
    "words = pos_tag(words)\n",
    "\n",
    "print(words)\n"
   ],
   "metadata": {
    "collapsed": false,
    "pycharm": {
     "name": "#%%\n"
    }
   }
  },
  {
   "cell_type": "code",
   "execution_count": 51,
   "outputs": [
    {
     "name": "stdout",
     "output_type": "stream",
     "text": [
      "(S\n",
      "  (PERSON Bill/NNP)\n",
      "  works/VBZ\n",
      "  for/IN\n",
      "  Apple/NNP\n",
      "  so/IN\n",
      "  he/PRP\n",
      "  went/VBD\n",
      "  to/TO\n",
      "  (GPE Boston/NNP)\n",
      "  for/IN\n",
      "  a/DT\n",
      "  conference/NN\n",
      "  ./.)\n"
     ]
    }
   ],
   "source": [
    "# from nltk import word_tokenize, pos_tag, ne_chunk\n",
    "# input_str = \"Bill works for Apple so he went to Boston for a conference.\"\n",
    "# print(ne_chunk(pos_tag(word_tokenize(input_str))))\n",
    "# ne_chunk(pos_tag(word_tokenize(input_str))).draw()"
   ],
   "metadata": {
    "collapsed": false,
    "pycharm": {
     "name": "#%%\n"
    }
   }
  },
  {
   "cell_type": "code",
   "execution_count": null,
   "outputs": [],
   "source": [
    "def nlp_pre(text):\n",
    "    \"\"\"自然语言预处理\"\"\"\n",
    "    \"\"\"将文本中出现的字母转化为小写\"\"\"\n",
    "    text = text.lower()\n",
    "    \"\"\"删除文本中出现的数字\"\"\"\n",
    "    text = re.sub(r'\\d+', '', text)\n",
    "    \"\"\"删除标点符号\"\"\"\n",
    "    text = text.translate(str.maketrans('', '', string.punctuation))\n",
    "    \"\"\"删除文本前后中出现的空格\"\"\"\n",
    "    text = text.strip()\n",
    "    \"\"\"单词符号化\"\"\"\n",
    "    words = word_tokenize(text)\n",
    "    \"\"\"删除终止词\"\"\"\n",
    "    stop_words = set(stopwords.words('english'))\n",
    "    words = [i for i in words if not i in stop_words]\n",
    "    \"\"\"词形还原\"\"\"\n",
    "    lemmatizer = WordNetLemmatizer()\n",
    "    words = [lemmatizer.lemmatize(word) for word in words]\n",
    "\n",
    "\n"
   ],
   "metadata": {
    "collapsed": false,
    "pycharm": {
     "name": "#%%\n"
    }
   }
  }
 ],
 "metadata": {
  "kernelspec": {
   "display_name": "Python 3",
   "language": "python",
   "name": "python3"
  },
  "language_info": {
   "codemirror_mode": {
    "name": "ipython",
    "version": 2
   },
   "file_extension": ".py",
   "mimetype": "text/x-python",
   "name": "python",
   "nbconvert_exporter": "python",
   "pygments_lexer": "ipython2",
   "version": "2.7.6"
  }
 },
 "nbformat": 4,
 "nbformat_minor": 0
}